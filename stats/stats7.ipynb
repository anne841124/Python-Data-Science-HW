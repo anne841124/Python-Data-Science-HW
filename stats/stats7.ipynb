{
 "cells": [
  {
   "cell_type": "markdown",
   "id": "american-pilot",
   "metadata": {},
   "source": [
    "Q1: 假設 𝑋 ̅>2，拒絕 $𝐻_0$，𝛼 會變大/變小? 𝛽 會變大/變小?"
   ]
  },
  {
   "cell_type": "markdown",
   "id": "personal-woman",
   "metadata": {},
   "source": [
    "𝛼小 𝛽大"
   ]
  },
  {
   "cell_type": "markdown",
   "id": "after-march",
   "metadata": {},
   "source": [
    "Q1: 假設 𝑋 ̅>0.2，拒絕 $𝐻_0$，𝛼 會變大/變小? 𝛽 會變大/變小?"
   ]
  },
  {
   "cell_type": "markdown",
   "id": "impressive-assets",
   "metadata": {},
   "source": [
    "𝛼大 𝛽小"
   ]
  },
  {
   "cell_type": "markdown",
   "id": "noticed-earthquake",
   "metadata": {},
   "source": [
    "𝛼 和 𝛽 有關聯性?"
   ]
  },
  {
   "cell_type": "markdown",
   "id": "anonymous-northern",
   "metadata": {},
   "source": [
    "負相關"
   ]
  },
  {
   "cell_type": "code",
   "execution_count": null,
   "id": "hungarian-shade",
   "metadata": {},
   "outputs": [],
   "source": []
  }
 ],
 "metadata": {
  "kernelspec": {
   "display_name": "Python 3",
   "language": "python",
   "name": "python3"
  },
  "language_info": {
   "codemirror_mode": {
    "name": "ipython",
    "version": 3
   },
   "file_extension": ".py",
   "mimetype": "text/x-python",
   "name": "python",
   "nbconvert_exporter": "python",
   "pygments_lexer": "ipython3",
   "version": "3.8.8"
  }
 },
 "nbformat": 4,
 "nbformat_minor": 5
}
