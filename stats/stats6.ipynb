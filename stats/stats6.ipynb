{
 "cells": [
  {
   "cell_type": "markdown",
   "id": "fourth-convenience",
   "metadata": {},
   "source": [
    "Q1: 吃減肥藥能在一個月內瘦超過十公斤，研究人員想推翻第四台廣告業者的說法，請試著寫出$H_0$與 $H_1$。"
   ]
  },
  {
   "cell_type": "markdown",
   "id": "partial-nelson",
   "metadata": {},
   "source": [
    "$H_0$:一個月有瘦超過10KG的人\n",
    "\n",
    "$H_1$:一個月沒瘦超過10KG的人"
   ]
  },
  {
   "cell_type": "markdown",
   "id": "appointed-worst",
   "metadata": {},
   "source": [
    "Q2: 一位速食店店長認為其品牌在市場之佔有率至多為12%，於是該店長進行一個市場調查，一共訪問了3000為消費者，其中有311位表示喜歡該品牌，請試著寫出 $H_0$ 與 $H_1$"
   ]
  },
  {
   "cell_type": "markdown",
   "id": "continuous-examination",
   "metadata": {},
   "source": [
    "$H_0$:有吃過或是有定期吃這個速食店的人在3000人中超過12%\n",
    "\n",
    "$H_1$:有吃過或是有定期吃這個速食店的人在3000人中沒有超過12%"
   ]
  },
  {
   "cell_type": "code",
   "execution_count": null,
   "id": "external-strength",
   "metadata": {},
   "outputs": [],
   "source": []
  }
 ],
 "metadata": {
  "kernelspec": {
   "display_name": "Python 3",
   "language": "python",
   "name": "python3"
  },
  "language_info": {
   "codemirror_mode": {
    "name": "ipython",
    "version": 3
   },
   "file_extension": ".py",
   "mimetype": "text/x-python",
   "name": "python",
   "nbconvert_exporter": "python",
   "pygments_lexer": "ipython3",
   "version": "3.8.8"
  }
 },
 "nbformat": 4,
 "nbformat_minor": 5
}
