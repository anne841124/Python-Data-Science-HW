{
 "cells": [
  {
   "cell_type": "code",
   "execution_count": 1,
   "id": "divided-stomach",
   "metadata": {},
   "outputs": [],
   "source": [
    "def bayes_theorem(gender_girl, long_hair_girl, long_hair_boy):\n",
    "    gender_boy = 1 - gender_girl\n",
    "    P_B = gender_girl * long_hair_girl + gender_boy * long_hair_boy\n",
    "    P_AB = gender_girl * long_hair_girl\n",
    "    return P_AB / P_B"
   ]
  },
  {
   "cell_type": "code",
   "execution_count": 2,
   "id": "charged-verification",
   "metadata": {},
   "outputs": [],
   "source": [
    "boy = 90\n",
    "girl = 10\n",
    "boy_long = 9\n",
    "girl_long = 5\n",
    "\n",
    "gender_girl = 10 / (boy + girl)\n",
    "long_hair_girl = girl_long / girl\n",
    "\n",
    "long_hair_boy = boy_long / boy"
   ]
  },
  {
   "cell_type": "code",
   "execution_count": 3,
   "id": "german-writer",
   "metadata": {},
   "outputs": [
    {
     "data": {
      "text/plain": [
       "0.35714285714285715"
      ]
     },
     "execution_count": 3,
     "metadata": {},
     "output_type": "execute_result"
    }
   ],
   "source": [
    "bayes_theorem(gender_girl, long_hair_girl, long_hair_boy)"
   ]
  },
  {
   "cell_type": "code",
   "execution_count": null,
   "id": "later-mailman",
   "metadata": {},
   "outputs": [],
   "source": []
  }
 ],
 "metadata": {
  "kernelspec": {
   "display_name": "Python 3",
   "language": "python",
   "name": "python3"
  },
  "language_info": {
   "codemirror_mode": {
    "name": "ipython",
    "version": 3
   },
   "file_extension": ".py",
   "mimetype": "text/x-python",
   "name": "python",
   "nbconvert_exporter": "python",
   "pygments_lexer": "ipython3",
   "version": "3.8.8"
  }
 },
 "nbformat": 4,
 "nbformat_minor": 5
}
