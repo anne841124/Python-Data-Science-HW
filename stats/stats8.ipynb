{
 "cells": [
  {
   "cell_type": "code",
   "execution_count": 5,
   "id": "derived-aside",
   "metadata": {},
   "outputs": [],
   "source": [
    "import statsmodels.stats.proportion"
   ]
  },
  {
   "cell_type": "code",
   "execution_count": 7,
   "id": "regulation-brisbane",
   "metadata": {},
   "outputs": [
    {
     "name": "stdout",
     "output_type": "stream",
     "text": [
      "Z-test  4.834937784152282\n",
      "P-value  1.3318728439003627e-06\n"
     ]
    }
   ],
   "source": [
    "A = [75, 30]\n",
    "B = [300, 300]\n",
    "AB_result = statsmodels.stats.proportion.proportions_ztest(A, B, alternative = 'two-sided')\n",
    "print(\"Z-test \", AB_result[0])\n",
    "print(\"P-value \", AB_result[1])"
   ]
  },
  {
   "cell_type": "code",
   "execution_count": 10,
   "id": "amber-elevation",
   "metadata": {},
   "outputs": [
    {
     "name": "stdout",
     "output_type": "stream",
     "text": [
      "Is P_value > 0.05 ?  False\n"
     ]
    }
   ],
   "source": [
    "print(\"Is P_value > 0.05 ? \", AB_result[1]>0.05)"
   ]
  },
  {
   "cell_type": "markdown",
   "id": "potential-absorption",
   "metadata": {},
   "source": [
    "不良率不同，因P_value沒達到顯著水準"
   ]
  },
  {
   "cell_type": "code",
   "execution_count": null,
   "id": "conservative-airplane",
   "metadata": {},
   "outputs": [],
   "source": []
  }
 ],
 "metadata": {
  "kernelspec": {
   "display_name": "Python 3",
   "language": "python",
   "name": "python3"
  },
  "language_info": {
   "codemirror_mode": {
    "name": "ipython",
    "version": 3
   },
   "file_extension": ".py",
   "mimetype": "text/x-python",
   "name": "python",
   "nbconvert_exporter": "python",
   "pygments_lexer": "ipython3",
   "version": "3.8.8"
  }
 },
 "nbformat": 4,
 "nbformat_minor": 5
}
