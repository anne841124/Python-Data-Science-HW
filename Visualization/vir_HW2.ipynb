{
 "cells": [
  {
   "cell_type": "code",
   "execution_count": 13,
   "metadata": {},
   "outputs": [],
   "source": [
    "import numpy as np\n",
    "import matplotlib.pyplot as plt\n",
    "import math"
   ]
  },
  {
   "cell_type": "code",
   "execution_count": 27,
   "metadata": {},
   "outputs": [],
   "source": [
    "n = 10\n",
    "x = np.arange(n)\n",
    "\n",
    "y1 = np.random.uniform(0.1, 1.0, n) * math.exp(n)/1000\n",
    "y2 = np.random.uniform(0.1, 1.0, n) * math.exp(n)/1000\n",
    "\n"
   ]
  },
  {
   "cell_type": "code",
   "execution_count": 29,
   "metadata": {},
   "outputs": [
    {
     "data": {
      "image/png": "[encoded data removed]",
      "text/plain": [
       "<Figure size 432x288 with 1 Axes>"
      ]
     },
     "metadata": {
      "needs_background": "light"
     },
     "output_type": "display_data"
    }
   ],
   "source": [
    "plt.bar(x, +y1, facecolor = 'b', edgecolor = 'w')\n",
    "plt.bar(x, -y2, facecolor = 'r', edgecolor = 'w')\n",
    "\n",
    "for a, b in zip(x, y1):\n",
    "    plt.text(a , b, '%.2f'%b, ha = 'center', va = 'bottom')\n",
    "plt.show()"
   ]
  },
  {
   "cell_type": "code",
   "execution_count": 41,
   "metadata": {},
   "outputs": [
    {
     "data": {
      "text/plain": [
       "Text(0.1, 0.1, 'axes([0.1,0.1,.5,.5])')"
      ]
     },
     "execution_count": 41,
     "metadata": {},
     "output_type": "execute_result"
    },
    {
     "data": {
      "image/png": "[encoded data removed]",
      "text/plain": [
       "<Figure size 432x288 with 4 Axes>"
      ]
     },
     "metadata": {},
     "output_type": "display_data"
    }
   ],
   "source": [
    "plt.axes([0.4, 0.4, .5, .5])\n",
    "plt.xticks([]), plt.yticks([])\n",
    "plt.text(0.1, 0.1, 'axes([0.4,0.4,.5,.5])',ha='left',va='center',size=16,alpha=.5)\n",
    "plt.axes([0.3, 0.3, .5, .5])\n",
    "plt.xticks([]), plt.yticks([])\n",
    "plt.text(0.1, 0.1, 'axes([0.3,0.3,.5,.5])',ha='left',va='center',size=16,alpha=.5)\n",
    "plt.axes([0.2, 0.2, .5, .5])\n",
    "plt.xticks([]), plt.yticks([])\n",
    "plt.text(0.1, 0.1, 'axes([0.2,0.2,.5,.5])',ha='left',va='center',size=16,alpha=.5)\n",
    "plt.axes([0.1, 0.1, .5, .5])\n",
    "plt.xticks([]), plt.yticks([])\n",
    "plt.text(0.1, 0.1, 'axes([0.1,0.1,.5,.5])',ha='left',va='center',size=16,alpha=.5)"
   ]
  },
  {
   "cell_type": "code",
   "execution_count": null,
   "metadata": {},
   "outputs": [],
   "source": []
  },
  {
   "cell_type": "code",
   "execution_count": null,
   "metadata": {},
   "outputs": [],
   "source": []
  }
 ],
 "metadata": {
  "kernelspec": {
   "display_name": "Python 3",
   "language": "python",
   "name": "python3"
  },
  "language_info": {
   "codemirror_mode": {
    "name": "ipython",
    "version": 3
   },
   "file_extension": ".py",
   "mimetype": "text/x-python",
   "name": "python",
   "nbconvert_exporter": "python",
   "pygments_lexer": "ipython3",
   "version": "3.8.5"
  }
 },
 "nbformat": 4,
 "nbformat_minor": 4
}
