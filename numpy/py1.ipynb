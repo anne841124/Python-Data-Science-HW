{
 "cells": [
  {
   "cell_type": "code",
   "execution_count": 1,
   "id": "medical-current",
   "metadata": {},
   "outputs": [],
   "source": [
    "import numpy as np"
   ]
  },
  {
   "cell_type": "code",
   "execution_count": 2,
   "id": "terminal-fitting",
   "metadata": {},
   "outputs": [],
   "source": [
    "a = np.random.randint(10, size=6) \n",
    "b = np.random.randint(10, size=(3,4)) \n",
    "c = np.random.randint(10, size=(2,3,2)) "
   ]
  },
  {
   "cell_type": "code",
   "execution_count": 3,
   "id": "micro-namibia",
   "metadata": {},
   "outputs": [
    {
     "name": "stdout",
     "output_type": "stream",
     "text": [
      "b list:  [array([1, 2, 1, 1]), array([8, 5, 0, 5]), array([2, 9, 0, 0])]\n",
      "b tolist [[1, 2, 1, 1], [8, 5, 0, 5], [2, 9, 0, 0]]\n"
     ]
    }
   ],
   "source": [
    "print('b list: ', list(b))\n",
    "print('b tolist', b.tolist())"
   ]
  },
  {
   "cell_type": "markdown",
   "id": "composed-comparative",
   "metadata": {},
   "source": [
    "lsit會把每一層分別轉換成 List\n",
    "\n",
    "tolist()會將全部一次轉乘list"
   ]
  },
  {
   "cell_type": "code",
   "execution_count": 4,
   "id": "illegal-courage",
   "metadata": {},
   "outputs": [
    {
     "name": "stdout",
     "output_type": "stream",
     "text": [
      "[5 1 0 7 5 2]\n",
      "a dimention : 1\n",
      "a shape : (6,)\n",
      "a size : 6\n",
      "a type : int32\n",
      "a item size : 4\n",
      "a length : 6\n",
      "a type : <class 'numpy.ndarray'>\n"
     ]
    }
   ],
   "source": [
    "print(a)\n",
    "print(\"a dimention :\", a.ndim)\n",
    "print(\"a shape :\", a.shape)\n",
    "print(\"a size :\", a.size)\n",
    "print(\"a type :\", a.dtype)\n",
    "print(\"a item size :\",a.itemsize)\n",
    "print(\"a length :\", len(a))\n",
    "print(\"a type :\", type(a))"
   ]
  },
  {
   "cell_type": "code",
   "execution_count": 5,
   "id": "signal-junior",
   "metadata": {},
   "outputs": [
    {
     "name": "stdout",
     "output_type": "stream",
     "text": [
      "[[1 2 1 1]\n",
      " [8 5 0 5]\n",
      " [2 9 0 0]]\n",
      "b dimention : 2\n",
      "b shape : (3, 4)\n",
      "b size : 12\n",
      "b type : int32\n",
      "b item size : 4\n",
      "b length : 3\n",
      "b type : <class 'numpy.ndarray'>\n"
     ]
    }
   ],
   "source": [
    "print(b)\n",
    "print(\"b dimention :\", b.ndim)\n",
    "print(\"b shape :\", b.shape)\n",
    "print(\"b size :\", b.size)\n",
    "print(\"b type :\", b.dtype)\n",
    "print(\"b item size :\",b.itemsize)\n",
    "print(\"b length :\", len(b))\n",
    "print(\"b type :\", type(b))"
   ]
  },
  {
   "cell_type": "code",
   "execution_count": 6,
   "id": "answering-deadline",
   "metadata": {},
   "outputs": [
    {
     "name": "stdout",
     "output_type": "stream",
     "text": [
      "[[[5 2]\n",
      "  [6 4]\n",
      "  [1 3]]\n",
      "\n",
      " [[0 7]\n",
      "  [6 2]\n",
      "  [9 7]]]\n",
      "c dimention : 3\n",
      "c shape : (2, 3, 2)\n",
      "c size : 12\n",
      "c type : int32\n",
      "c item size : 4\n",
      "c length : 2\n",
      "c type : <class 'numpy.ndarray'>\n"
     ]
    }
   ],
   "source": [
    "print(c)\n",
    "print(\"c dimention :\", c.ndim)\n",
    "print(\"c shape :\", c.shape)\n",
    "print(\"c size :\", c.size)\n",
    "print(\"c type :\", c.dtype)\n",
    "print(\"c item size :\",c.itemsize)\n",
    "print(\"c length :\", len(c))\n",
    "print(\"c type :\", type(c))"
   ]
  },
  {
   "cell_type": "code",
   "execution_count": 9,
   "id": "comfortable-network",
   "metadata": {},
   "outputs": [
    {
     "name": "stdout",
     "output_type": "stream",
     "text": [
      "[[[5, 2], [6, 4], [1, 3]], [[0, 7], [6, 2], [9, 7]]]\n"
     ]
    }
   ],
   "source": [
    "def to_list(num):\n",
    "    if type(num) != np.ndarray:\n",
    "        return num\n",
    "    return [to_list(i) for i in num]\n",
    "\n",
    "print(to_list(c))"
   ]
  },
  {
   "cell_type": "code",
   "execution_count": null,
   "id": "cooperative-medicaid",
   "metadata": {},
   "outputs": [],
   "source": []
  }
 ],
 "metadata": {
  "kernelspec": {
   "display_name": "Python 3",
   "language": "python",
   "name": "python3"
  },
  "language_info": {
   "codemirror_mode": {
    "name": "ipython",
    "version": 3
   },
   "file_extension": ".py",
   "mimetype": "text/x-python",
   "name": "python",
   "nbconvert_exporter": "python",
   "pygments_lexer": "ipython3",
   "version": "3.8.8"
  }
 },
 "nbformat": 4,
 "nbformat_minor": 5
}
