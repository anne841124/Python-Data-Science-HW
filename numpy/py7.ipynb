{
 "cells": [
  {
   "cell_type": "code",
   "execution_count": 1,
   "id": "respiratory-measure",
   "metadata": {},
   "outputs": [],
   "source": [
    "import numpy as np"
   ]
  },
  {
   "cell_type": "code",
   "execution_count": 9,
   "id": "atlantic-performer",
   "metadata": {},
   "outputs": [
    {
     "data": {
      "text/plain": [
       "array([[[4, 0, 6, ..., 3, 8, 7],\n",
       "        [5, 4, 3, ..., 3, 1, 7],\n",
       "        [2, 4, 3, ..., 0, 0, 8],\n",
       "        ...,\n",
       "        [4, 5, 6, ..., 7, 9, 8],\n",
       "        [2, 7, 4, ..., 0, 6, 0],\n",
       "        [7, 1, 2, ..., 7, 9, 2]],\n",
       "\n",
       "       [[4, 7, 9, ..., 5, 0, 0],\n",
       "        [0, 4, 1, ..., 0, 8, 8],\n",
       "        [4, 6, 9, ..., 0, 6, 8],\n",
       "        ...,\n",
       "        [4, 1, 2, ..., 2, 2, 4],\n",
       "        [9, 1, 2, ..., 2, 8, 6],\n",
       "        [2, 5, 5, ..., 1, 2, 3]],\n",
       "\n",
       "       [[1, 5, 4, ..., 2, 1, 4],\n",
       "        [7, 0, 5, ..., 9, 9, 9],\n",
       "        [0, 9, 7, ..., 3, 1, 0],\n",
       "        ...,\n",
       "        [1, 2, 5, ..., 2, 1, 6],\n",
       "        [3, 7, 1, ..., 5, 3, 3],\n",
       "        [9, 2, 8, ..., 2, 7, 0]],\n",
       "\n",
       "       ...,\n",
       "\n",
       "       [[5, 8, 2, ..., 9, 6, 6],\n",
       "        [3, 4, 9, ..., 5, 6, 3],\n",
       "        [3, 9, 6, ..., 4, 4, 3],\n",
       "        ...,\n",
       "        [0, 8, 8, ..., 9, 3, 9],\n",
       "        [5, 6, 2, ..., 6, 7, 2],\n",
       "        [4, 8, 9, ..., 9, 7, 5]],\n",
       "\n",
       "       [[7, 2, 7, ..., 1, 0, 4],\n",
       "        [1, 8, 2, ..., 6, 8, 7],\n",
       "        [5, 7, 0, ..., 5, 5, 5],\n",
       "        ...,\n",
       "        [4, 4, 2, ..., 2, 4, 2],\n",
       "        [8, 9, 3, ..., 2, 3, 4],\n",
       "        [5, 9, 5, ..., 6, 3, 1]],\n",
       "\n",
       "       [[3, 7, 9, ..., 1, 5, 3],\n",
       "        [3, 1, 1, ..., 7, 0, 7],\n",
       "        [6, 3, 1, ..., 6, 9, 6],\n",
       "        ...,\n",
       "        [0, 7, 4, ..., 3, 9, 4],\n",
       "        [5, 2, 3, ..., 1, 2, 5],\n",
       "        [0, 9, 7, ..., 8, 4, 9]]])"
      ]
     },
     "execution_count": 9,
     "metadata": {},
     "output_type": "execute_result"
    }
   ],
   "source": [
    "Z = np.random.randint(0, 10, 1000000).reshape(100, 100, 100)\n",
    "Z"
   ]
  },
  {
   "cell_type": "code",
   "execution_count": 10,
   "id": "moderate-observation",
   "metadata": {},
   "outputs": [
    {
     "name": "stdout",
     "output_type": "stream",
     "text": [
      "31.4 ns ± 8.33 ns per loop (mean ± std. dev. of 7 runs, 10 loops each)\n"
     ]
    },
    {
     "data": {
      "text/plain": [
       "array([[[4, 0, 6, ..., 3, 8, 7],\n",
       "        [5, 4, 3, ..., 3, 1, 7],\n",
       "        [2, 4, 3, ..., 0, 0, 8],\n",
       "        ...,\n",
       "        [4, 5, 6, ..., 7, 9, 8],\n",
       "        [2, 7, 4, ..., 0, 6, 0],\n",
       "        [7, 1, 2, ..., 7, 9, 2]],\n",
       "\n",
       "       [[4, 7, 9, ..., 5, 0, 0],\n",
       "        [0, 4, 1, ..., 0, 8, 8],\n",
       "        [4, 6, 9, ..., 0, 6, 8],\n",
       "        ...,\n",
       "        [4, 1, 2, ..., 2, 2, 4],\n",
       "        [9, 1, 2, ..., 2, 8, 6],\n",
       "        [2, 5, 5, ..., 1, 2, 3]],\n",
       "\n",
       "       [[1, 5, 4, ..., 2, 1, 4],\n",
       "        [7, 0, 5, ..., 9, 9, 9],\n",
       "        [0, 9, 7, ..., 3, 1, 0],\n",
       "        ...,\n",
       "        [1, 2, 5, ..., 2, 1, 6],\n",
       "        [3, 7, 1, ..., 5, 3, 3],\n",
       "        [9, 2, 8, ..., 2, 7, 0]],\n",
       "\n",
       "       ...,\n",
       "\n",
       "       [[5, 8, 2, ..., 9, 6, 6],\n",
       "        [3, 4, 9, ..., 5, 6, 3],\n",
       "        [3, 9, 6, ..., 4, 4, 3],\n",
       "        ...,\n",
       "        [0, 8, 8, ..., 9, 3, 9],\n",
       "        [5, 6, 2, ..., 6, 7, 2],\n",
       "        [4, 8, 9, ..., 9, 7, 5]],\n",
       "\n",
       "       [[7, 2, 7, ..., 1, 0, 4],\n",
       "        [1, 8, 2, ..., 6, 8, 7],\n",
       "        [5, 7, 0, ..., 5, 5, 5],\n",
       "        ...,\n",
       "        [4, 4, 2, ..., 2, 4, 2],\n",
       "        [8, 9, 3, ..., 2, 3, 4],\n",
       "        [5, 9, 5, ..., 6, 3, 1]],\n",
       "\n",
       "       [[3, 7, 9, ..., 1, 5, 3],\n",
       "        [3, 1, 1, ..., 7, 0, 7],\n",
       "        [6, 3, 1, ..., 6, 9, 6],\n",
       "        ...,\n",
       "        [0, 7, 4, ..., 3, 9, 4],\n",
       "        [5, 2, 3, ..., 1, 2, 5],\n",
       "        [0, 9, 7, ..., 8, 4, 9]]])"
      ]
     },
     "execution_count": 10,
     "metadata": {},
     "output_type": "execute_result"
    }
   ],
   "source": [
    "%timeit -n 10 a = 2\n",
    "Z_new1 = []\n",
    "\n",
    "for i in np.nditer(Z):\n",
    "    Z_new1.append(i + 1)\n",
    "    \n",
    "np.array(Z).reshape(100, 100, 100)"
   ]
  },
  {
   "cell_type": "code",
   "execution_count": 12,
   "id": "bizarre-manor",
   "metadata": {},
   "outputs": [
    {
     "name": "stdout",
     "output_type": "stream",
     "text": [
      "34.3 ns ± 19.2 ns per loop (mean ± std. dev. of 7 runs, 10 loops each)\n"
     ]
    },
    {
     "data": {
      "text/plain": [
       "array([[[ 5,  1,  7, ...,  4,  9,  8],\n",
       "        [ 6,  5,  4, ...,  4,  2,  8],\n",
       "        [ 3,  5,  4, ...,  1,  1,  9],\n",
       "        ...,\n",
       "        [ 5,  6,  7, ...,  8, 10,  9],\n",
       "        [ 3,  8,  5, ...,  1,  7,  1],\n",
       "        [ 8,  2,  3, ...,  8, 10,  3]],\n",
       "\n",
       "       [[ 5,  8, 10, ...,  6,  1,  1],\n",
       "        [ 1,  5,  2, ...,  1,  9,  9],\n",
       "        [ 5,  7, 10, ...,  1,  7,  9],\n",
       "        ...,\n",
       "        [ 5,  2,  3, ...,  3,  3,  5],\n",
       "        [10,  2,  3, ...,  3,  9,  7],\n",
       "        [ 3,  6,  6, ...,  2,  3,  4]],\n",
       "\n",
       "       [[ 2,  6,  5, ...,  3,  2,  5],\n",
       "        [ 8,  1,  6, ..., 10, 10, 10],\n",
       "        [ 1, 10,  8, ...,  4,  2,  1],\n",
       "        ...,\n",
       "        [ 2,  3,  6, ...,  3,  2,  7],\n",
       "        [ 4,  8,  2, ...,  6,  4,  4],\n",
       "        [10,  3,  9, ...,  3,  8,  1]],\n",
       "\n",
       "       ...,\n",
       "\n",
       "       [[ 6,  9,  3, ..., 10,  7,  7],\n",
       "        [ 4,  5, 10, ...,  6,  7,  4],\n",
       "        [ 4, 10,  7, ...,  5,  5,  4],\n",
       "        ...,\n",
       "        [ 1,  9,  9, ..., 10,  4, 10],\n",
       "        [ 6,  7,  3, ...,  7,  8,  3],\n",
       "        [ 5,  9, 10, ..., 10,  8,  6]],\n",
       "\n",
       "       [[ 8,  3,  8, ...,  2,  1,  5],\n",
       "        [ 2,  9,  3, ...,  7,  9,  8],\n",
       "        [ 6,  8,  1, ...,  6,  6,  6],\n",
       "        ...,\n",
       "        [ 5,  5,  3, ...,  3,  5,  3],\n",
       "        [ 9, 10,  4, ...,  3,  4,  5],\n",
       "        [ 6, 10,  6, ...,  7,  4,  2]],\n",
       "\n",
       "       [[ 4,  8, 10, ...,  2,  6,  4],\n",
       "        [ 4,  2,  2, ...,  8,  1,  8],\n",
       "        [ 7,  4,  2, ...,  7, 10,  7],\n",
       "        ...,\n",
       "        [ 1,  8,  5, ...,  4, 10,  5],\n",
       "        [ 6,  3,  4, ...,  2,  3,  6],\n",
       "        [ 1, 10,  8, ...,  9,  5, 10]]])"
      ]
     },
     "execution_count": 12,
     "metadata": {},
     "output_type": "execute_result"
    }
   ],
   "source": [
    "%timeit -n 10 a = 2\n",
    "Z_nwe2 = np.add(Z,1)\n",
    "Z_nwe2"
   ]
  },
  {
   "cell_type": "code",
   "execution_count": 13,
   "id": "promotional-april",
   "metadata": {},
   "outputs": [
    {
     "data": {
      "text/plain": [
       "array([8, 5, 8, 0, 1, 2, 8, 5, 6, 3, 1, 7, 4, 9, 0, 0, 8, 5, 8, 3, 9, 3,\n",
       "       3, 9, 3, 5, 9, 7, 2, 6, 4, 4, 9, 3, 6, 2, 1, 4, 5, 6, 8, 0, 6, 3,\n",
       "       9, 6, 8, 7, 7, 8])"
      ]
     },
     "execution_count": 13,
     "metadata": {},
     "output_type": "execute_result"
    }
   ],
   "source": [
    "Z = np.random.randint(0, 10, 50)\n",
    "Z"
   ]
  },
  {
   "cell_type": "code",
   "execution_count": 20,
   "id": "innocent-sustainability",
   "metadata": {},
   "outputs": [
    {
     "data": {
      "text/plain": [
       "8"
      ]
     },
     "execution_count": 20,
     "metadata": {},
     "output_type": "execute_result"
    }
   ],
   "source": [
    "\n",
    "counter_list=[]\n",
    "\n",
    "for i in range(10):\n",
    "    counter = 0\n",
    "    for j in Z:\n",
    "        if j==i:\n",
    "            counter+=1\n",
    "    counter_list.append(counter)\n",
    "    \n",
    "counter_list.index(max(counter_list))"
   ]
  },
  {
   "cell_type": "code",
   "execution_count": 21,
   "id": "cultural-zoning",
   "metadata": {},
   "outputs": [
    {
     "data": {
      "text/plain": [
       "[0, 2, 6, 16, 18, 40, 46, 49]"
      ]
     },
     "execution_count": 21,
     "metadata": {},
     "output_type": "execute_result"
    }
   ],
   "source": [
    "index_list = []\n",
    "for i in range(len(Z)):\n",
    "    if Z[i] == counter_list.index(max(counter_list)):\n",
    "        index_list.append(i)\n",
    "        \n",
    "index_list"
   ]
  },
  {
   "cell_type": "code",
   "execution_count": 22,
   "id": "pending-custody",
   "metadata": {},
   "outputs": [
    {
     "name": "stdout",
     "output_type": "stream",
     "text": [
      "[1, 6, 6, 3, 7, 7]\n",
      "[1, 6, 6, 3, 7, 7]\n",
      "[[5, 5, 4, 2], [7, 3, 7, 6], [4, 4, 3, 7]]\n",
      "[array([5, 5, 4, 2]), array([7, 3, 7, 6]), array([4, 4, 3, 7])]\n",
      "[[[3, 0], [4, 9], [0, 2]], [[7, 1], [7, 1], [8, 4]]]\n",
      "[array([[3, 0],\n",
      "       [4, 9],\n",
      "       [0, 2]]), array([[7, 1],\n",
      "       [7, 1],\n",
      "       [8, 4]])]\n"
     ]
    }
   ],
   "source": [
    "\n",
    "a = np.random.randint(10, size=6) \n",
    "\n",
    "print(a.tolist())\n",
    "print(list(a))\n",
    "\n",
    "\n",
    "b = np.random.randint(10, size=(3,4)) \n",
    "\n",
    "print(b.tolist())\n",
    "print(list(b))\n",
    "\n",
    "\n",
    "c = np.random.randint(10, size=(2,3,2)) \n",
    "\n",
    "print(c.tolist())\n",
    "print(list(c))"
   ]
  },
  {
   "cell_type": "code",
   "execution_count": 28,
   "id": "decimal-venture",
   "metadata": {},
   "outputs": [
    {
     "data": {
      "text/plain": [
       "[[5, 5, 4, 2], [7, 3, 7, 6], [4, 4, 3, 7]]"
      ]
     },
     "execution_count": 28,
     "metadata": {},
     "output_type": "execute_result"
    }
   ],
   "source": [
    "def to_list(A):\n",
    "    if type(A) != np.ndarray:\n",
    "        return A\n",
    "    new_list = []\n",
    "    for i in A:\n",
    "        new_list.append(to_list(i))\n",
    "        \n",
    "    return new_list\n",
    "to_list(b)"
   ]
  },
  {
   "cell_type": "code",
   "execution_count": null,
   "id": "physical-motor",
   "metadata": {},
   "outputs": [],
   "source": []
  }
 ],
 "metadata": {
  "kernelspec": {
   "display_name": "Python 3",
   "language": "python",
   "name": "python3"
  },
  "language_info": {
   "codemirror_mode": {
    "name": "ipython",
    "version": 3
   },
   "file_extension": ".py",
   "mimetype": "text/x-python",
   "name": "python",
   "nbconvert_exporter": "python",
   "pygments_lexer": "ipython3",
   "version": "3.8.8"
  }
 },
 "nbformat": 4,
 "nbformat_minor": 5
}
