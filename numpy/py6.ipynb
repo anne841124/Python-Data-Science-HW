{
 "cells": [
  {
   "cell_type": "code",
   "execution_count": 1,
   "id": "progressive-roulette",
   "metadata": {},
   "outputs": [],
   "source": [
    "import numpy as np"
   ]
  },
  {
   "cell_type": "code",
   "execution_count": 3,
   "id": "beginning-tribe",
   "metadata": {},
   "outputs": [
    {
     "name": "stdout",
     "output_type": "stream",
     "text": [
      "15\n",
      "15\n",
      "15\n"
     ]
    }
   ],
   "source": [
    "a = np.arange(6)\n",
    "\n",
    "print(a.sum()) \n",
    "print(np.sum(a))\n",
    "print(sum(a)) "
   ]
  },
  {
   "cell_type": "code",
   "execution_count": 4,
   "id": "designing-combining",
   "metadata": {},
   "outputs": [
    {
     "data": {
      "text/plain": [
       "array([[0.54052509, 0.03064154, 0.58398054, 0.31133965, 0.74315701],\n",
       "       [0.90758932, 0.96824203, 0.50433178, 0.93063103, 0.79707694],\n",
       "       [0.70613321, 0.5901196 , 0.68162261, 0.52609137, 0.15702346],\n",
       "       [0.67004659, 0.93618959, 0.4476724 , 0.48755647, 0.7072566 ],\n",
       "       [0.70363084, 0.10049487, 0.35408606, 0.02894126, 0.40695697]])"
      ]
     },
     "execution_count": 4,
     "metadata": {},
     "output_type": "execute_result"
    }
   ],
   "source": [
    "A = np.random.random((5, 5))\n",
    "A"
   ]
  },
  {
   "cell_type": "code",
   "execution_count": 5,
   "id": "crude-separation",
   "metadata": {},
   "outputs": [
    {
     "data": {
      "text/plain": [
       "array([[-0.04553192, -1.92866439,  0.11496036, -0.89197332,  0.70284044],\n",
       "       [ 1.3101317 ,  1.53413792, -0.17920322,  1.39523069,  0.90198072],\n",
       "       [ 0.56610191,  0.13763349,  0.4755779 , -0.09883942, -1.46190313],\n",
       "       [ 0.43282464,  1.4157599 , -0.38846105, -0.2411588 ,  0.57025088],\n",
       "       [ 0.55685999, -1.67067791, -0.73409973, -1.93494397, -0.5388337 ]])"
      ]
     },
     "execution_count": 5,
     "metadata": {},
     "output_type": "execute_result"
    }
   ],
   "source": [
    "A = (A  - np.mean(A)) / np.std(A)\n",
    "A"
   ]
  },
  {
   "cell_type": "code",
   "execution_count": 7,
   "id": "electronic-character",
   "metadata": {},
   "outputs": [
    {
     "data": {
      "text/plain": [
       "array([0.81850637, 0.73753802, 0.46359568, 0.28672527, 0.82244369,\n",
       "       0.30359602, 0.44362486, 0.90196811, 0.77447994, 0.36436452])"
      ]
     },
     "execution_count": 7,
     "metadata": {},
     "output_type": "execute_result"
    }
   ],
   "source": [
    "B = np.random.rand(10)\n",
    "B"
   ]
  },
  {
   "cell_type": "code",
   "execution_count": 8,
   "id": "robust-genome",
   "metadata": {},
   "outputs": [
    {
     "data": {
      "text/plain": [
       "array([ 0.81850637,  0.73753802,  0.46359568,  0.28672527,  0.82244369,\n",
       "        0.30359602,  0.44362486, -1.        ,  0.77447994,  0.36436452])"
      ]
     },
     "execution_count": 8,
     "metadata": {},
     "output_type": "execute_result"
    }
   ],
   "source": [
    "B[B.argmax()] = -1\n",
    "B"
   ]
  },
  {
   "cell_type": "code",
   "execution_count": null,
   "id": "numeric-percentage",
   "metadata": {},
   "outputs": [],
   "source": []
  }
 ],
 "metadata": {
  "kernelspec": {
   "display_name": "Python 3",
   "language": "python",
   "name": "python3"
  },
  "language_info": {
   "codemirror_mode": {
    "name": "ipython",
    "version": 3
   },
   "file_extension": ".py",
   "mimetype": "text/x-python",
   "name": "python",
   "nbconvert_exporter": "python",
   "pygments_lexer": "ipython3",
   "version": "3.8.8"
  }
 },
 "nbformat": 4,
 "nbformat_minor": 5
}
