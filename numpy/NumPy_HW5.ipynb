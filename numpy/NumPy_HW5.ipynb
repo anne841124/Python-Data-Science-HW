{
 "cells": [
  {
   "cell_type": "code",
   "execution_count": 2,
   "metadata": {},
   "outputs": [],
   "source": [
    "import numpy as np"
   ]
  },
  {
   "cell_type": "code",
   "execution_count": 3,
   "metadata": {},
   "outputs": [],
   "source": [
    "english_score = np.array([55,89,76,65,48,70])\n",
    "\n",
    "math_score = np.array([60,85,60,68,np.nan,60])\n",
    "\n",
    "chinese_score = np.array([65,90,82,72,66,77])\n"
   ]
  },
  {
   "cell_type": "code",
   "execution_count": 16,
   "metadata": {},
   "outputs": [
    {
     "name": "stdout",
     "output_type": "stream",
     "text": [
      "english : \n",
      "max: 89 / min: 48 / avg: 67.16666666666667 / standard: 13.433995020924426\n",
      "math : \n",
      "max: 85.0 / min: 60.0 / avg: 66.6 / standard: 9.707728879609279\n",
      "chinese : \n",
      "max: 90 / min: 65 / avg: 75.33333333333333 / standard: 8.825468196582484\n"
     ]
    }
   ],
   "source": [
    "en_data = [np.max(english_score), np.min(english_score), np.mean(english_score), np.std(english_score)]\n",
    "ma_data = [np.nanmax(math_score), np.nanmin(math_score), np.nanmean(math_score), np.nanstd(math_score)]\n",
    "ch_data = [np.max(chinese_score), np.min(chinese_score), np.mean(chinese_score), np.std(chinese_score)]\n",
    "\n",
    "def out(data):\n",
    "    print(\"max:\", data[0], \"/ min:\", data[1], \"/ avg:\", data[2], \"/ standard:\", data[3])\n",
    "\n",
    "print(\"english : \")\n",
    "out(en_data)\n",
    "print(\"math : \")\n",
    "out(ma_data)\n",
    "print(\"chinese : \")\n",
    "out(ch_data)"
   ]
  },
  {
   "cell_type": "code",
   "execution_count": 17,
   "metadata": {},
   "outputs": [
    {
     "name": "stdout",
     "output_type": "stream",
     "text": [
      "new math data : \n",
      "max: 85 / min: 55 / avg: 64.66666666666667 / standard: 9.860132971832694\n"
     ]
    }
   ],
   "source": [
    "math_score_new = np.array([60,85,60,68,55,60])\n",
    "ma_data_new = [np.max(math_score_new), np.min(math_score_new), np.mean(math_score_new), np.std(math_score_new)]\n",
    "print(\"new math data : \")\n",
    "out(ma_data_new)\n"
   ]
  },
  {
   "cell_type": "code",
   "execution_count": null,
   "metadata": {},
   "outputs": [],
   "source": []
  }
 ],
 "metadata": {
  "kernelspec": {
   "display_name": "Python 3",
   "language": "python",
   "name": "python3"
  },
  "language_info": {
   "codemirror_mode": {
    "name": "ipython",
    "version": 3
   },
   "file_extension": ".py",
   "mimetype": "text/x-python",
   "name": "python",
   "nbconvert_exporter": "python",
   "pygments_lexer": "ipython3",
   "version": "3.8.5"
  }
 },
 "nbformat": 4,
 "nbformat_minor": 4
}
