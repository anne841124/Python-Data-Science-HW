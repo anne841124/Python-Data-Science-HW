{
 "cells": [
  {
   "cell_type": "code",
   "execution_count": 1,
   "id": "ordered-inclusion",
   "metadata": {},
   "outputs": [],
   "source": [
    "import numpy as np"
   ]
  },
  {
   "cell_type": "code",
   "execution_count": 3,
   "id": "indonesian-flush",
   "metadata": {},
   "outputs": [
    {
     "name": "stdout",
     "output_type": "stream",
     "text": [
      "type(a):  <class 'numpy.ndarray'>\n",
      "a.dtype:  int32\n"
     ]
    }
   ],
   "source": [
    "a = np.arange(15).reshape(3, 5)\n",
    "\n",
    "print('type(a): ', type(a))\n",
    "print('a.dtype: ', a.dtype)"
   ]
  },
  {
   "cell_type": "markdown",
   "id": "awful-score",
   "metadata": {},
   "source": [
    "type是指這個資料整個的型態\n",
    "\n",
    "dtype是指這個資料儲存的元素型態"
   ]
  },
  {
   "cell_type": "code",
   "execution_count": 7,
   "id": "activated-armenia",
   "metadata": {},
   "outputs": [
    {
     "name": "stdout",
     "output_type": "stream",
     "text": [
      "True\n",
      "True\n",
      "True\n"
     ]
    }
   ],
   "source": [
    "def check_type(a, type_):\n",
    "    return a.dtype is np.dtype(type_)\n",
    "\n",
    "print(check_type(a, 'int'))\n",
    "print(check_type(a, np.int))\n",
    "print(check_type(a, np.dtype('int')))"
   ]
  },
  {
   "cell_type": "code",
   "execution_count": 10,
   "id": "novel-blackberry",
   "metadata": {},
   "outputs": [],
   "source": [
    "def check_type1(a, t):\n",
    "    return a.dtype is t\n",
    "\n",
    "def check_type2(a, t):\n",
    "    return type(a) == np.dtype(t)\n",
    "\n",
    "def check_type3(a, t):\n",
    "    return type(a) is np.dtype(t)"
   ]
  },
  {
   "cell_type": "markdown",
   "id": "patent-hypothesis",
   "metadata": {},
   "source": []
  },
  {
   "cell_type": "code",
   "execution_count": null,
   "id": "excess-relay",
   "metadata": {},
   "outputs": [],
   "source": []
  }
 ],
 "metadata": {
  "kernelspec": {
   "display_name": "Python 3",
   "language": "python",
   "name": "python3"
  },
  "language_info": {
   "codemirror_mode": {
    "name": "ipython",
    "version": 3
   },
   "file_extension": ".py",
   "mimetype": "text/x-python",
   "name": "python",
   "nbconvert_exporter": "python",
   "pygments_lexer": "ipython3",
   "version": "3.8.8"
  }
 },
 "nbformat": 4,
 "nbformat_minor": 5
}
