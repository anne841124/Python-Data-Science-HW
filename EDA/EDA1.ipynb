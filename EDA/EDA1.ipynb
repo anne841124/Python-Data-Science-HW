{
 "cells": [
  {
   "cell_type": "markdown",
   "id": "disturbed-manhattan",
   "metadata": {},
   "source": [
    "Q1: 哪一個問題不適合用資料科學解決?\n",
    "\n",
    "    挑選 Mr./Ms. Right\n",
    "    \n",
    "    顧客下次會買哪些東西？\n",
    "    \n",
    "    半導體的良率預測？\n",
    "\n",
    "Q2：以你的角度來分析，為什麼這樣的問題，較不適合用資料來解決？"
   ]
  },
  {
   "cell_type": "markdown",
   "id": "through-corrections",
   "metadata": {},
   "source": [
    "我認為挑選另一半不適合以資料科學進行問題解決\n",
    "\n",
    "主要原因在於挑選另一半是非常主觀的，且其中不一定有關聯。"
   ]
  },
  {
   "cell_type": "code",
   "execution_count": null,
   "id": "stuffed-vienna",
   "metadata": {},
   "outputs": [],
   "source": []
  }
 ],
 "metadata": {
  "kernelspec": {
   "display_name": "Python 3",
   "language": "python",
   "name": "python3"
  },
  "language_info": {
   "codemirror_mode": {
    "name": "ipython",
    "version": 3
   },
   "file_extension": ".py",
   "mimetype": "text/x-python",
   "name": "python",
   "nbconvert_exporter": "python",
   "pygments_lexer": "ipython3",
   "version": "3.8.8"
  }
 },
 "nbformat": 4,
 "nbformat_minor": 5
}
