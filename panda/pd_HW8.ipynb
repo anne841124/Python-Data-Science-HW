{
 "cells": [
  {
   "cell_type": "code",
   "execution_count": 1,
   "metadata": {},
   "outputs": [],
   "source": [
    "import pandas as pd"
   ]
  },
  {
   "cell_type": "code",
   "execution_count": 2,
   "metadata": {},
   "outputs": [
    {
     "data": {
      "text/plain": [
       "DatetimeIndex(['2019-01-01', '2019-01-02', '2019-01-03', '2019-01-04',\n",
       "               '2019-01-05', '2019-01-06', '2019-01-07', '2019-01-08',\n",
       "               '2019-01-09', '2019-01-10', '2019-01-11', '2019-01-12',\n",
       "               '2019-01-13', '2019-01-14', '2019-01-15', '2019-01-16',\n",
       "               '2019-01-17', '2019-01-18', '2019-01-19', '2019-01-20'],\n",
       "              dtype='datetime64[ns]', freq='D')"
      ]
     },
     "execution_count": 2,
     "metadata": {},
     "output_type": "execute_result"
    }
   ],
   "source": [
    "index = pd.date_range(\"1/1/2019\", periods=20, freq='D')\n",
    "series = pd.Series(range(20), index=index)\n",
    "index"
   ]
  },
  {
   "cell_type": "code",
   "execution_count": 6,
   "metadata": {},
   "outputs": [
    {
     "data": {
      "text/plain": [
       "PeriodIndex(['2018-12-31/2019-01-06', '2018-12-31/2019-01-06',\n",
       "             '2018-12-31/2019-01-06', '2018-12-31/2019-01-06',\n",
       "             '2018-12-31/2019-01-06', '2018-12-31/2019-01-06',\n",
       "             '2019-01-07/2019-01-13', '2019-01-07/2019-01-13',\n",
       "             '2019-01-07/2019-01-13', '2019-01-07/2019-01-13',\n",
       "             '2019-01-07/2019-01-13', '2019-01-07/2019-01-13',\n",
       "             '2019-01-07/2019-01-13', '2019-01-14/2019-01-20',\n",
       "             '2019-01-14/2019-01-20', '2019-01-14/2019-01-20',\n",
       "             '2019-01-14/2019-01-20', '2019-01-14/2019-01-20',\n",
       "             '2019-01-14/2019-01-20', '2019-01-14/2019-01-20'],\n",
       "            dtype='period[W-SUN]', freq='W-SUN')"
      ]
     },
     "execution_count": 6,
     "metadata": {},
     "output_type": "execute_result"
    }
   ],
   "source": [
    "index.to_period(freq = \"W\")"
   ]
  },
  {
   "cell_type": "code",
   "execution_count": null,
   "metadata": {},
   "outputs": [],
   "source": []
  }
 ],
 "metadata": {
  "kernelspec": {
   "display_name": "Python 3",
   "language": "python",
   "name": "python3"
  },
  "language_info": {
   "codemirror_mode": {
    "name": "ipython",
    "version": 3
   },
   "file_extension": ".py",
   "mimetype": "text/x-python",
   "name": "python",
   "nbconvert_exporter": "python",
   "pygments_lexer": "ipython3",
   "version": "3.8.5"
  }
 },
 "nbformat": 4,
 "nbformat_minor": 4
}
